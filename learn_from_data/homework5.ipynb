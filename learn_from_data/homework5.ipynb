{
 "cells": [
  {
   "cell_type": "markdown",
   "metadata": {},
   "source": [
    "# Learning From Data\n",
    "\n",
    "Homework 5\n",
    "\n",
    "## Gradient Descent\n",
    "\n",
    "u_1 = u_0 - n * u'\n",
    "\n",
    "v_1 = v_0 - n * v'"
   ]
  },
  {
   "cell_type": "code",
   "execution_count": 2,
   "metadata": {},
   "outputs": [],
   "source": [
    "import numpy as np"
   ]
  },
  {
   "cell_type": "code",
   "execution_count": 24,
   "metadata": {},
   "outputs": [],
   "source": [
    "l_rate  = 0.1\n",
    "u_0 = 1.0\n",
    "v_0 = 1.0"
   ]
  },
  {
   "cell_type": "code",
   "execution_count": 3,
   "metadata": {},
   "outputs": [],
   "source": [
    "def deviate_u(u, v):\n",
    "    return 2.0 * (np.exp(v) + 2.0*v*np.exp(-1.0*u)) * (u*np.exp(v) - 2.0*v*np.exp(-1.0*u))"
   ]
  },
  {
   "cell_type": "code",
   "execution_count": 4,
   "metadata": {},
   "outputs": [],
   "source": [
    "def deviate_v(u, v):\n",
    "    return 2.0 * (u*np.exp(v) - 2.0*np.exp(-1.0*u)) * (u*np.exp(v) - 2.0*v*np.exp(-1.0*u))"
   ]
  },
  {
   "cell_type": "code",
   "execution_count": 16,
   "metadata": {},
   "outputs": [],
   "source": [
    "def e_in(u, v):\n",
    "    value = u*np.exp(v) - 2.0*v*np.exp(-1.0*u)\n",
    "    return value**2"
   ]
  },
  {
   "cell_type": "code",
   "execution_count": 17,
   "metadata": {},
   "outputs": [
    {
     "data": {
      "text/plain": [
       "3.9303972318771003"
      ]
     },
     "execution_count": 17,
     "metadata": {},
     "output_type": "execute_result"
    }
   ],
   "source": [
    "e_in(u_0, v_0)"
   ]
  },
  {
   "cell_type": "code",
   "execution_count": 12,
   "metadata": {},
   "outputs": [],
   "source": [
    "u_1 = u_0 - l_rate*deviate_u(u_0, v_0)"
   ]
  },
  {
   "cell_type": "code",
   "execution_count": 13,
   "metadata": {},
   "outputs": [],
   "source": [
    "v_1 = v_0 - l_rate*deviate_v(u_0, v_0)"
   ]
  },
  {
   "cell_type": "code",
   "execution_count": 14,
   "metadata": {},
   "outputs": [
    {
     "name": "stdout",
     "output_type": "stream",
     "text": [
      "-0.369542993197 0.213920553625\n"
     ]
    }
   ],
   "source": [
    "print(u_1, v_1)"
   ]
  },
  {
   "cell_type": "code",
   "execution_count": 83,
   "metadata": {},
   "outputs": [],
   "source": [
    "def gradient_descent(u_init, v_init, threshold):\n",
    "    u_old = u_init\n",
    "    v_old = v_init\n",
    "    i = 0\n",
    "    result = e_in(u_init, v_init)\n",
    "    while result > threshold:\n",
    "        u_new = u_old - l_rate*deviate_u(u_old, v_old)\n",
    "        v_new = v_old - l_rate*deviate_v(u_old, v_old)\n",
    "        i = i + 1\n",
    "        result = e_in(u_new, v_new)\n",
    "        print('interation {0:2d}: {1:1.2e} -> u:{2: 10.8f}, v:{3: 10.8f}'.format(i, result, u_new, v_new))\n",
    "        u_old = u_new\n",
    "        v_old = v_new"
   ]
  },
  {
   "cell_type": "code",
   "execution_count": 84,
   "metadata": {},
   "outputs": [
    {
     "name": "stdout",
     "output_type": "stream",
     "text": [
      "interation  1: 1.16e+00 -> u:-0.36954299, v: 0.21392055\n",
      "interation  2: 1.01e+00 -> u: 0.03052069, v:-0.50793405\n",
      "interation  3: 9.90e-02 -> u: 0.10752311, v:-0.12221026\n",
      "interation  4: 8.66e-03 -> u: 0.06564483, v:-0.01516656\n",
      "interation  5: 1.82e-04 -> u: 0.04784117, v: 0.01848990\n",
      "interation  6: 1.30e-06 -> u: 0.04499946, v: 0.02349925\n",
      "interation  7: 7.29e-09 -> u: 0.04475602, v: 0.02392430\n",
      "interation  8: 4.01e-11 -> u: 0.04473775, v: 0.02395617\n",
      "interation  9: 2.20e-13 -> u: 0.04473639, v: 0.02395854\n",
      "interation 10: 1.21e-15 -> u: 0.04473629, v: 0.02395871\n"
     ]
    }
   ],
   "source": [
    "# Questions 5, 6\n",
    "gradient_descent(u_0, v_0, 1e-14)"
   ]
  },
  {
   "cell_type": "markdown",
   "metadata": {},
   "source": [
    "## Coordinate Descent"
   ]
  },
  {
   "cell_type": "code",
   "execution_count": 92,
   "metadata": {},
   "outputs": [],
   "source": [
    "def coordinate_descent(u_init, v_init, total_step):\n",
    "    u_old = u_init\n",
    "    v_old = v_init\n",
    "    step = 0\n",
    "    dir_step = 'no move'\n",
    "    result = e_in(u_init, v_init)\n",
    "    while step < total_step:\n",
    "        if step%2.0 == 0.0:\n",
    "            dir_step = 'U direction'\n",
    "            u_new = u_old - l_rate*deviate_u(u_old, v_old)\n",
    "            v_new = v_old\n",
    "        else:\n",
    "            dir_step = 'V direction'\n",
    "            u_new = u_old\n",
    "            v_new = v_old - l_rate*deviate_v(u_old, v_old)\n",
    "        step = step + 1\n",
    "        result = e_in(u_new, v_new)\n",
    "        print('interation {0:2d} in {4}: {1:1.2e} -> u:{2: 10.8f}, v:{3: 10.8f}'.format(step, result, u_new, v_new, dir_step))\n",
    "        u_old = u_new\n",
    "        v_old = v_new"
   ]
  },
  {
   "cell_type": "code",
   "execution_count": 93,
   "metadata": {},
   "outputs": [
    {
     "name": "stdout",
     "output_type": "stream",
     "text": [
      "interation  1 in U direction: 1.52e+01 -> u:-0.36954299, v: 1.00000000\n",
      "interation  2 in V direction: 3.43e+01 -> u:-0.36954299, v:-2.03992288\n",
      "interation  3 in U direction: 7.02e-01 -> u: 6.39247376, v:-2.03992288\n",
      "interation  4 in V direction: 5.34e-01 -> u: 6.39247376, v:-2.17869889\n",
      "interation  5 in U direction: 5.32e-01 -> u: 6.37699523, v:-2.17869889\n",
      "interation  6 in V direction: 4.33e-01 -> u: 6.37699523, v:-2.28347262\n",
      "interation  7 in U direction: 4.31e-01 -> u: 6.36460749, v:-2.28347262\n",
      "interation  8 in V direction: 3.65e-01 -> u: 6.36460749, v:-2.36821379\n",
      "interation  9 in U direction: 3.64e-01 -> u: 6.35427659, v:-2.36821379\n",
      "interation 10 in V direction: 3.16e-01 -> u: 6.35427659, v:-2.43959481\n",
      "interation 11 in U direction: 3.16e-01 -> u: 6.34542086, v:-2.43959481\n",
      "interation 12 in V direction: 2.80e-01 -> u: 6.34542086, v:-2.50137528\n",
      "interation 13 in U direction: 2.79e-01 -> u: 6.33767806, v:-2.50137528\n",
      "interation 14 in V direction: 2.51e-01 -> u: 6.33767806, v:-2.55589957\n",
      "interation 15 in U direction: 2.51e-01 -> u: 6.33080628, v:-2.55589957\n",
      "interation 16 in V direction: 2.28e-01 -> u: 6.33080628, v:-2.60473485\n",
      "interation 17 in U direction: 2.27e-01 -> u: 6.32463553, v:-2.60473485\n",
      "interation 18 in V direction: 2.09e-01 -> u: 6.32463553, v:-2.64898351\n",
      "interation 19 in U direction: 2.08e-01 -> u: 6.31904159, v:-2.64898351\n",
      "interation 20 in V direction: 1.93e-01 -> u: 6.31904159, v:-2.68945200\n",
      "interation 21 in U direction: 1.92e-01 -> u: 6.31393077, v:-2.68945200\n",
      "interation 22 in V direction: 1.79e-01 -> u: 6.31393077, v:-2.72674885\n",
      "interation 23 in U direction: 1.79e-01 -> u: 6.30923067, v:-2.72674885\n",
      "interation 24 in V direction: 1.67e-01 -> u: 6.30923067, v:-2.76134507\n",
      "interation 25 in U direction: 1.67e-01 -> u: 6.30488407, v:-2.76134507\n",
      "interation 26 in V direction: 1.57e-01 -> u: 6.30488407, v:-2.79361293\n",
      "interation 27 in U direction: 1.57e-01 -> u: 6.30084499, v:-2.79361293\n",
      "interation 28 in V direction: 1.48e-01 -> u: 6.30084499, v:-2.82385199\n",
      "interation 29 in U direction: 1.48e-01 -> u: 6.29707590, v:-2.82385199\n",
      "interation 30 in V direction: 1.40e-01 -> u: 6.29707590, v:-2.85230695\n"
     ]
    }
   ],
   "source": [
    "coordinate_descent(u_0, v_0, 30)"
   ]
  },
  {
   "cell_type": "code",
   "execution_count": null,
   "metadata": {},
   "outputs": [],
   "source": []
  }
 ],
 "metadata": {
  "kernelspec": {
   "display_name": "Python 3",
   "language": "python",
   "name": "python3"
  },
  "language_info": {
   "codemirror_mode": {
    "name": "ipython",
    "version": 3
   },
   "file_extension": ".py",
   "mimetype": "text/x-python",
   "name": "python",
   "nbconvert_exporter": "python",
   "pygments_lexer": "ipython3",
   "version": "3.6.3"
  }
 },
 "nbformat": 4,
 "nbformat_minor": 2
}
