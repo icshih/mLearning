{
 "cells": [
  {
   "cell_type": "markdown",
   "metadata": {},
   "source": [
    "# Learning From Data\n",
    "\n",
    "This is an exercise which is a part of the homework 1 of [Learning from Data](http://work.caltech.edu/homeworks.html) course"
   ]
  },
  {
   "cell_type": "code",
   "execution_count": 31,
   "metadata": {},
   "outputs": [],
   "source": [
    "import scipy.stats as ss"
   ]
  },
  {
   "cell_type": "code",
   "execution_count": 105,
   "metadata": {},
   "outputs": [],
   "source": [
    "import numpy as np"
   ]
  },
  {
   "cell_type": "code",
   "execution_count": 114,
   "metadata": {},
   "outputs": [],
   "source": [
    "from scipy import linalg"
   ]
  },
  {
   "cell_type": "code",
   "execution_count": 73,
   "metadata": {},
   "outputs": [],
   "source": [
    "import matplotlib.pyplot as plt"
   ]
  },
  {
   "cell_type": "code",
   "execution_count": 217,
   "metadata": {},
   "outputs": [],
   "source": [
    "import pandas as pd"
   ]
  },
  {
   "cell_type": "markdown",
   "metadata": {},
   "source": [
    "## question 4"
   ]
  },
  {
   "cell_type": "code",
   "execution_count": 41,
   "metadata": {},
   "outputs": [
    {
     "data": {
      "text/plain": [
       "array([0, 1, 1, 1, 1, 1, 0, 0, 1, 1])"
      ]
     },
     "execution_count": 41,
     "metadata": {},
     "output_type": "execute_result"
    }
   ],
   "source": [
    "ss.binom.rvs(1, 0.55, size=10)"
   ]
  },
  {
   "cell_type": "code",
   "execution_count": 33,
   "metadata": {},
   "outputs": [
    {
     "data": {
      "text/plain": [
       "0.0003405062891601558"
      ]
     },
     "execution_count": 33,
     "metadata": {},
     "output_type": "execute_result"
    }
   ],
   "source": [
    "ss.binom.pmf(0, 10, 0.55)"
   ]
  },
  {
   "cell_type": "code",
   "execution_count": 60,
   "metadata": {},
   "outputs": [
    {
     "data": {
      "text/plain": [
       "0.0"
      ]
     },
     "execution_count": 60,
     "metadata": {},
     "output_type": "execute_result"
    }
   ],
   "source": [
    "ss.binom.pmf(0, 10000, 0.55)"
   ]
  },
  {
   "cell_type": "code",
   "execution_count": 34,
   "metadata": {},
   "outputs": [
    {
     "data": {
      "text/plain": [
       "0.24230805846252851"
      ]
     },
     "execution_count": 34,
     "metadata": {},
     "output_type": "execute_result"
    }
   ],
   "source": [
    "ss.binom.pmf(1, 1000, 0.0003405062891601558)"
   ]
  },
  {
   "cell_type": "code",
   "execution_count": 42,
   "metadata": {},
   "outputs": [],
   "source": [
    "def get_marbles(n_marble):\n",
    "    return ss.binom.rvs(1, 0.55, size=n_marble)"
   ]
  },
  {
   "cell_type": "code",
   "execution_count": 54,
   "metadata": {},
   "outputs": [],
   "source": [
    "def check_sample_has_red(sample):\n",
    "    check = 0\n",
    "    for s in sample:\n",
    "        if s == 1:\n",
    "            check = 1\n",
    "    return check"
   ]
  },
  {
   "cell_type": "code",
   "execution_count": 55,
   "metadata": {},
   "outputs": [
    {
     "data": {
      "text/plain": [
       "1"
      ]
     },
     "execution_count": 55,
     "metadata": {},
     "output_type": "execute_result"
    }
   ],
   "source": [
    "check_sample_has_red(get_marbles(10))"
   ]
  },
  {
   "cell_type": "code",
   "execution_count": 56,
   "metadata": {},
   "outputs": [],
   "source": [
    "def run_sample(number):\n",
    "    no_red = 0\n",
    "    for i in range(number):\n",
    "        if check_sample_has_red(get_marbles(10)) is 0:\n",
    "            no_red = no_red + 1\n",
    "    return no_red"
   ]
  },
  {
   "cell_type": "code",
   "execution_count": 57,
   "metadata": {},
   "outputs": [
    {
     "data": {
      "text/plain": [
       "6"
      ]
     },
     "execution_count": 57,
     "metadata": {},
     "output_type": "execute_result"
    }
   ],
   "source": [
    "run_sample(10000)"
   ]
  },
  {
   "cell_type": "code",
   "execution_count": 58,
   "metadata": {},
   "outputs": [
    {
     "data": {
      "text/plain": [
       "39"
      ]
     },
     "execution_count": 58,
     "metadata": {},
     "output_type": "execute_result"
    }
   ],
   "source": [
    "run_sample(100000)"
   ]
  },
  {
   "cell_type": "code",
   "execution_count": 59,
   "metadata": {},
   "outputs": [
    {
     "name": "stdout",
     "output_type": "stream",
     "text": [
      "[0, 0, 0, 2, 1, 29]\n"
     ]
    }
   ],
   "source": [
    "test = [1, 10, 100, 1000, 10000, 100000]\n",
    "out = list()\n",
    "for t in test:\n",
    "    out.append(run_sample(t))\n",
    "print(out)"
   ]
  },
  {
   "cell_type": "markdown",
   "metadata": {},
   "source": [
    "## The perceptron Learning Algorithm, question 7-10 "
   ]
  },
  {
   "cell_type": "code",
   "execution_count": 466,
   "metadata": {},
   "outputs": [],
   "source": [
    "def get_target_function():\n",
    "    x = ss.uniform.rvs(-1, scale=2, size=2)\n",
    "    y = ss.uniform.rvs(-1, scale=2, size=2)\n",
    "    A = np.array([[x[0], 1], [x[1], 1]])\n",
    "    b = np.array([y[0], y[1]])\n",
    "    param = np.linalg.inv(A).dot(b)\n",
    "    return param"
   ]
  },
  {
   "cell_type": "code",
   "execution_count": 467,
   "metadata": {},
   "outputs": [],
   "source": [
    "def get_data(target):\n",
    "    x = ss.uniform.rvs(-1, scale=2, size=1)\n",
    "    y = ss.uniform.rvs(-1, scale=2, size=1)\n",
    "    ty = target[0]*x + target[1]\n",
    "    if (y - ty) >= 0:\n",
    "        b = 1\n",
    "    else:\n",
    "        b = -1\n",
    "    return x, y, b"
   ]
  },
  {
   "cell_type": "code",
   "execution_count": 468,
   "metadata": {},
   "outputs": [],
   "source": [
    "def pla(dataset, w0, w1, w2):\n",
    "    x = list()\n",
    "    y = list()\n",
    "    b = list()\n",
    "    for i in range(len(dataset)):\n",
    "        temp = dataset.iloc[i]\n",
    "        weight = np.array([[w0, w1, w2]])\n",
    "        x_ = np.array([[1, temp['x'], temp['y']]])\n",
    "        h = np.sum(weight*x_)\n",
    "        # not match\n",
    "        if (h*temp['b'] <= 0):\n",
    "            x.append(temp['x'])\n",
    "            y.append(temp['y'])\n",
    "            b.append(temp['b'])\n",
    "    out = {'x': x, 'y': y, 'b': b}\n",
    "    return pd.DataFrame(out)"
   ]
  },
  {
   "cell_type": "code",
   "execution_count": 469,
   "metadata": {},
   "outputs": [],
   "source": [
    "def update_weight(misclas, w1, w2):\n",
    "    sample = misclas.sample(n=1)\n",
    "    w1 = w1 + sample['x']*sample['b']\n",
    "    w2 = w2 + sample['y']*sample['b']\n",
    "    return w1.values[0], w2.values[0]"
   ]
  },
  {
   "cell_type": "code",
   "execution_count": 470,
   "metadata": {},
   "outputs": [],
   "source": [
    "def converge(data_set):\n",
    "    w0 = 0.0\n",
    "    w1 = 0.0\n",
    "    w2 = 0.0\n",
    "    for i in range(1000):\n",
    "        output = pla(data_set, w0, w1, w2)\n",
    "        if (len(output) == 0):\n",
    "            print('After {} iterations, all points are classfied'.format(i+1))\n",
    "            break\n",
    "        else:\n",
    "            w1, w2 = update_weight(output, w1, w2)\n",
    "    if (i+1) == 1000:\n",
    "        print('After 1000 iterations, no solution is found')\n",
    "    return i+1"
   ]
  },
  {
   "cell_type": "code",
   "execution_count": 471,
   "metadata": {},
   "outputs": [],
   "source": [
    "def multiple_run(data_set, num_run):\n",
    "    trial = list()\n",
    "    for i in range(num_run):\n",
    "        num_iter = converge(data_set)\n",
    "        trial.append(num_iter)"
   ]
  },
  {
   "cell_type": "code",
   "execution_count": 472,
   "metadata": {},
   "outputs": [],
   "source": [
    "target = get_target_function()"
   ]
  },
  {
   "cell_type": "code",
   "execution_count": 473,
   "metadata": {},
   "outputs": [],
   "source": [
    "num_data = 10\n",
    "data = np.zeros([num_data, 3])\n",
    "for i in range(num_data):\n",
    "    x, y, b = get_data(target)\n",
    "    data[i] = [x, y, b]"
   ]
  },
  {
   "cell_type": "code",
   "execution_count": 474,
   "metadata": {},
   "outputs": [],
   "source": [
    "dataset = pd.DataFrame(data)"
   ]
  },
  {
   "cell_type": "code",
   "execution_count": 475,
   "metadata": {},
   "outputs": [],
   "source": [
    "dataset.columns = ['x', 'y', 'b']"
   ]
  },
  {
   "cell_type": "code",
   "execution_count": 476,
   "metadata": {},
   "outputs": [],
   "source": [
    "postive = dataset[dataset['b'] > 0.0]\n",
    "negative = dataset[dataset['b'] < 0.0]"
   ]
  },
  {
   "cell_type": "code",
   "execution_count": 477,
   "metadata": {},
   "outputs": [],
   "source": [
    "fig, ax = plt.subplots(1, 1)"
   ]
  },
  {
   "cell_type": "code",
   "execution_count": 478,
   "metadata": {},
   "outputs": [
    {
     "data": {
      "text/plain": [
       "(-1.0, 1.0)"
      ]
     },
     "execution_count": 478,
     "metadata": {},
     "output_type": "execute_result"
    }
   ],
   "source": [
    "ax.set_xlim(-1.0, 1.0)\n",
    "ax.set_ylim(-1.0, 1.0)"
   ]
  },
  {
   "cell_type": "code",
   "execution_count": 479,
   "metadata": {},
   "outputs": [
    {
     "data": {
      "image/png": "[encoded data removed]",
      "text/plain": [
       "<matplotlib.figure.Figure at 0x116b372e8>"
      ]
     },
     "metadata": {},
     "output_type": "display_data"
    }
   ],
   "source": [
    "ax.plot(postive['x'], postive['y'], 'ro')\n",
    "ax.plot(negative['x'], negative['y'], 'go')\n",
    "plt.show()"
   ]
  },
  {
   "cell_type": "code",
   "execution_count": null,
   "metadata": {},
   "outputs": [],
   "source": []
  },
  {
   "cell_type": "code",
   "execution_count": 480,
   "metadata": {},
   "outputs": [
    {
     "name": "stdout",
     "output_type": "stream",
     "text": [
      "After 21 iterations, all points are classfied\n",
      "After 18 iterations, all points are classfied\n",
      "After 15 iterations, all points are classfied\n",
      "After 16 iterations, all points are classfied\n",
      "After 8 iterations, all points are classfied\n",
      "After 17 iterations, all points are classfied\n",
      "After 8 iterations, all points are classfied\n",
      "After 17 iterations, all points are classfied\n",
      "After 13 iterations, all points are classfied\n",
      "After 13 iterations, all points are classfied\n"
     ]
    }
   ],
   "source": [
    "multiple_run(dataset, 10)"
   ]
  },
  {
   "cell_type": "code",
   "execution_count": null,
   "metadata": {},
   "outputs": [],
   "source": []
  }
 ],
 "metadata": {
  "kernelspec": {
   "display_name": "Python 3",
   "language": "python",
   "name": "python3"
  },
  "language_info": {
   "codemirror_mode": {
    "name": "ipython",
    "version": 3
   },
   "file_extension": ".py",
   "mimetype": "text/x-python",
   "name": "python",
   "nbconvert_exporter": "python",
   "pygments_lexer": "ipython3",
   "version": "3.6.3"
  }
 },
 "nbformat": 4,
 "nbformat_minor": 2
}
